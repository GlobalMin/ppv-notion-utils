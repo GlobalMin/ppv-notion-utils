{
 "cells": [
  {
   "cell_type": "code",
   "execution_count": null,
   "metadata": {},
   "outputs": [],
   "source": [
    "from ppv_notion_utils.recurring_tasks import run_copy_and_increment_end_to_end\n",
    "from ppv_notion_utils.make_new_week_entry import add_new_weekly_page\n",
    "from dotenv import load_dotenv\n",
    "import os\n",
    "load_dotenv()\n",
    "from notion_client import Client"
   ]
  },
  {
   "cell_type": "code",
   "execution_count": null,
   "metadata": {},
   "outputs": [],
   "source": [
    "ACTION_ITEMS_DB = os.environ[\"ACTION_ITEMS_DB\"]\n",
    "WEEKLY_DB = os.environ[\"WEEKS_DB\"]\n",
    "notion = Client(auth=os.environ[\"NOTION_TOKEN\"])"
   ]
  },
  {
   "attachments": {},
   "cell_type": "markdown",
   "metadata": {},
   "source": [
    "## Recurring task example\n",
    "Take a page within the Action Items DB that you want to repeat at some regular interval and create n copies.\n",
    "\n",
    "<img src=\"recurring_task_before.png\" width=\"75%\" height=\"75%\">\n",
    "\n",
    "\n",
    "\n"
   ]
  },
  {
   "cell_type": "code",
   "execution_count": null,
   "metadata": {},
   "outputs": [],
   "source": [
    "run_copy_and_increment_end_to_end(database_id = ACTION_ITEMS_DB, title = \"Read 5 pages of Brothers Karamazov\", num = 5, days_between=1)"
   ]
  },
  {
   "attachments": {},
   "cell_type": "markdown",
   "metadata": {},
   "source": [
    "# After\n",
    "\n",
    "<img src=\"recurring_task_after.png\" width=\"75%\" height=\"75%\">"
   ]
  },
  {
   "cell_type": "code",
   "execution_count": null,
   "metadata": {},
   "outputs": [],
   "source": []
  }
 ],
 "metadata": {
  "kernelspec": {
   "display_name": ".venv",
   "language": "python",
   "name": "python3"
  },
  "language_info": {
   "codemirror_mode": {
    "name": "ipython",
    "version": 3
   },
   "file_extension": ".py",
   "mimetype": "text/x-python",
   "name": "python",
   "nbconvert_exporter": "python",
   "pygments_lexer": "ipython3"
  }
 },
 "nbformat": 4,
 "nbformat_minor": 2
}
