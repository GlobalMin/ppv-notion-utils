{
 "cells": [
  {
   "attachments": {},
   "cell_type": "markdown",
   "metadata": {},
   "source": [
    "### Use first cell below in Google Collab\n",
    "If running locally then I recommend using a virtual environment otherwise this will install to global python environment."
   ]
  },
  {
   "cell_type": "code",
   "execution_count": null,
   "metadata": {},
   "outputs": [],
   "source": [
    "%%capture\n",
    "!pip install -r https://raw.githubusercontent.com/GlobalMin/ppv-notion-utils/main/requirements.txt\n",
    "!pip install -e . "
   ]
  },
  {
   "cell_type": "code",
   "execution_count": null,
   "metadata": {},
   "outputs": [],
   "source": [
    "import os\n",
    "\n",
    "from dotenv import load_dotenv\n",
    "\n",
    "from ppv_notion_utils.make_new_week_entry import add_new_weekly_page\n",
    "from ppv_notion_utils.recurring_tasks import run_copy_and_increment_end_to_end\n",
    "\n",
    "load_dotenv()\n",
    "from pprint import pprint\n",
    "\n",
    "from notion_client import Client\n",
    "from notion_client.helpers import collect_paginated_api"
   ]
  },
  {
   "attachments": {},
   "cell_type": "markdown",
   "metadata": {},
   "source": [
    "# Quickstart info from readme that you'll need to have working\n",
    "1. Create a Notion API token to let Python interact with your Notion workspace. You can do this by going to [https://www.notion.so/my-integrations](https://www.notion.so/my-integrations) and creating a new integration. You'll need to give it a name and select the \"Read and write\" permission. Once you've created the integration, you'll be given a token that you can use to authenticate with Notion.  \n",
    "\n",
    "2. Rename `.env.example` to `.env` and paste your token into the `NOTION_TOKEN` field.  \n",
    "\n",
    "3. Fill in `WEEKS_DB` with the ID of the database that corresponds to the weekly review pages. This will allow you to bulk create new weeks in that db.  \n",
    "\n",
    "4. Fill in `ACTION_ITEMS_DB` with the ID of the database that corresponds to the action items pages. This will allow you to bulk copy/paste recurring tasks at an interval of your choosing."
   ]
  },
  {
   "cell_type": "code",
   "execution_count": null,
   "metadata": {},
   "outputs": [],
   "source": [
    "# If you really want to do everything within this notebook and making a .env file sounds hard then you can paste keys here\n",
    "# Swap out os.environ[\"ACTION_ITEMS_DB\"] with the value of the key ACTION_ITEMS_DB and so on\n",
    "\n",
    "# ACTION_ITEMS_DB = \"\"\n",
    "# WEEKLY_DB = \"\"\n",
    "# NOTION_TOKEN = \"\"\n",
    "\n",
    "ACTION_ITEMS_DB = os.environ[\"ACTION_ITEMS_DB\"]\n",
    "WEEKLY_DB = os.environ[\"WEEKS_DB\"]\n",
    "notion = Client(auth=os.environ[\"NOTION_TOKEN\"])"
   ]
  },
  {
   "attachments": {},
   "cell_type": "markdown",
   "metadata": {},
   "source": [
    "## Quick check that we can authenticate to Notion and the database ID is correct\n",
    "The output of the below cell is pretty gross so as long as it isn't blank and seems to be part of the Action Items database, you're good to go."
   ]
  },
  {
   "cell_type": "code",
   "execution_count": null,
   "metadata": {},
   "outputs": [],
   "source": [
    "test_connection = collect_paginated_api(\n",
    "    notion.databases.query, database_id=ACTION_ITEMS_DB\n",
    ")\n",
    "pprint(test_connection[0])"
   ]
  },
  {
   "attachments": {},
   "cell_type": "markdown",
   "metadata": {},
   "source": [
    "## Recurring task example\n",
    "Take a page within the Action Items DB that you want to repeat at some regular interval and create n copies.\n",
    "\n",
    "<img src=\"recurring_task_before.png\" width=\"75%\" height=\"75%\">\n",
    "\n",
    "\n",
    "\n"
   ]
  },
  {
   "cell_type": "code",
   "execution_count": null,
   "metadata": {},
   "outputs": [],
   "source": [
    "run_copy_and_increment_end_to_end(\n",
    "    database_id=ACTION_ITEMS_DB,\n",
    "    title=\"Read 5 pages of Brothers Karamazov\",\n",
    "    num=5,\n",
    "    days_between=1,\n",
    ")"
   ]
  },
  {
   "attachments": {},
   "cell_type": "markdown",
   "metadata": {},
   "source": [
    "# After\n",
    "\n",
    "<img src=\"recurring_task_after.png\" width=\"75%\" height=\"75%\">"
   ]
  },
  {
   "cell_type": "code",
   "execution_count": null,
   "metadata": {},
   "outputs": [],
   "source": []
  }
 ],
 "metadata": {
  "kernelspec": {
   "display_name": ".venv",
   "language": "python",
   "name": "python3"
  },
  "language_info": {
   "codemirror_mode": {
    "name": "ipython",
    "version": 3
   },
   "file_extension": ".py",
   "mimetype": "text/x-python",
   "name": "python",
   "nbconvert_exporter": "python",
   "pygments_lexer": "ipython3"
  }
 },
 "nbformat": 4,
 "nbformat_minor": 2
}
